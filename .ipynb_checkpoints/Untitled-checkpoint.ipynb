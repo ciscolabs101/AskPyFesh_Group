{
 "cells": [
  {
   "cell_type": "code",
   "execution_count": 1,
   "metadata": {},
   "outputs": [],
   "source": [
    "import re"
   ]
  },
  {
   "cell_type": "code",
   "execution_count": 2,
   "metadata": {},
   "outputs": [
    {
     "data": {
      "text/plain": [
       "['Hello', 'there', 'StackOverflow']"
      ]
     },
     "execution_count": 2,
     "metadata": {},
     "output_type": "execute_result"
    }
   ],
   "source": [
    "re.findall(r'\\b\\S+\\b', 'Hello there . -  StackOverflow.')\n",
    "['Hello', 'there', 'StackOverflow']"
   ]
  },
  {
   "cell_type": "code",
   "execution_count": 32,
   "metadata": {},
   "outputs": [],
   "source": [
    "word = 'Hello there . -  StackOverflow. StackOverflow sad StackOverflow there .. there'\n",
    "match = r'\\b\\S+\\b'"
   ]
  },
  {
   "cell_type": "code",
   "execution_count": 33,
   "metadata": {},
   "outputs": [
    {
     "data": {
      "text/plain": [
       "['Hello',\n",
       " 'there',\n",
       " 'StackOverflow',\n",
       " 'StackOverflow',\n",
       " 'sad',\n",
       " 'StackOverflow',\n",
       " 'there',\n",
       " 'there']"
      ]
     },
     "execution_count": 33,
     "metadata": {},
     "output_type": "execute_result"
    }
   ],
   "source": [
    "re.findall(match, word)"
   ]
  },
  {
   "cell_type": "code",
   "execution_count": 34,
   "metadata": {},
   "outputs": [],
   "source": [
    "import re, operator\n",
    "\n",
    "def word_distribution(string):\n",
    "    pattern = r'\\b\\S+\\b'\n",
    "    my_String = re.findall(pattern, string)\n",
    "    \n",
    "    my_dict = {}\n",
    "    for item in my_String:\n",
    "        if item in my_dict:\n",
    "            my_dict[item] += 1\n",
    "        else:\n",
    "            my_dict[item] = 1\n",
    "    \n",
    "    sorted_d = sorted(my_dict.items(), key=operator.itemgetter(1))\n",
    "    \n",
    "    return sorted_d"
   ]
  },
  {
   "cell_type": "code",
   "execution_count": 35,
   "metadata": {},
   "outputs": [
    {
     "data": {
      "text/plain": [
       "{'Hello': 1, 'there': 3, 'StackOverflow': 3, 'sad': 1}"
      ]
     },
     "execution_count": 35,
     "metadata": {},
     "output_type": "execute_result"
    }
   ],
   "source": [
    "word_distribution(word)"
   ]
  },
  {
   "cell_type": "code",
   "execution_count": 44,
   "metadata": {},
   "outputs": [
    {
     "data": {
      "text/plain": [
       "[2, 3]"
      ]
     },
     "execution_count": 44,
     "metadata": {},
     "output_type": "execute_result"
    }
   ],
   "source": [
    "adict ={'hello':3, 'hi': 2}\n",
    "sorted(adict.values())"
   ]
  },
  {
   "cell_type": "code",
   "execution_count": null,
   "metadata": {},
   "outputs": [],
   "source": []
  }
 ],
 "metadata": {
  "kernelspec": {
   "display_name": "Python 3",
   "language": "python",
   "name": "python3"
  },
  "language_info": {
   "codemirror_mode": {
    "name": "ipython",
    "version": 3
   },
   "file_extension": ".py",
   "mimetype": "text/x-python",
   "name": "python",
   "nbconvert_exporter": "python",
   "pygments_lexer": "ipython3",
   "version": "3.7.4"
  }
 },
 "nbformat": 4,
 "nbformat_minor": 2
}
