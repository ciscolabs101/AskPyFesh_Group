{
 "cells": [
  {
   "cell_type": "code",
   "execution_count": 1,
   "metadata": {},
   "outputs": [
    {
     "name": "stderr",
     "output_type": "stream",
     "text": [
      "[nltk_data] Downloading package stopwords to\n",
      "[nltk_data]     C:\\Users\\USER\\AppData\\Roaming\\nltk_data...\n",
      "[nltk_data]   Package stopwords is already up-to-date!\n",
      "[nltk_data] Downloading package wordnet to\n",
      "[nltk_data]     C:\\Users\\USER\\AppData\\Roaming\\nltk_data...\n",
      "[nltk_data]   Package wordnet is already up-to-date!\n"
     ]
    }
   ],
   "source": [
    "import pandas as pd\n",
    "import re\n",
    "import matplotlib.pyplot as plt\n",
    "import nltk\n",
    "from textblob import TextBlob\n",
    "import seaborn as sns\n",
    "import matplotlib.pyplot as plt\n",
    "from collections import Counter\n",
    "nltk.download('stopwords')\n",
    "nltk.download('wordnet') \n",
    "from nltk.corpus import stopwords\n",
    "from nltk.stem.porter import PorterStemmer\n",
    "from nltk.tokenize import RegexpTokenizer\n",
    "from nltk.stem.wordnet import WordNetLemmatizer"
   ]
  },
  {
   "cell_type": "code",
   "execution_count": 2,
   "metadata": {},
   "outputs": [
    {
     "name": "stdout",
     "output_type": "stream",
     "text": [
      "5073\n"
     ]
    }
   ],
   "source": [
    "#Red txt data file \n",
    "with open(\"WhatsApp Chat with #AskPyFesh_3.txt\", \"r\", encoding = \"utf-8\") as file:\n",
    "    chats = file.readlines()\n",
    "print(len(chats))"
   ]
  },
  {
   "cell_type": "code",
   "execution_count": 3,
   "metadata": {},
   "outputs": [
    {
     "name": "stdout",
     "output_type": "stream",
     "text": [
      "5073\n",
      "4110\n"
     ]
    }
   ],
   "source": [
    "#Remove new lines\n",
    "chats = [line.strip() for line in chats]\n",
    "chats[:10]\n",
    "print(len(chats))\n",
    "\n",
    "#Clean out the join notification lines\n",
    "apfesh = [line for line in chats if not \"joined using this\" in line]\n",
    "\n",
    "#Further cleaning\n",
    "#Remove empty lines\n",
    "apfesh = [line for line in apfesh if len(line) > 1]\n",
    "print(len(apfesh))"
   ]
  },
  {
   "cell_type": "code",
   "execution_count": 4,
   "metadata": {},
   "outputs": [
    {
     "name": "stdout",
     "output_type": "stream",
     "text": [
      "4104\n"
     ]
    }
   ],
   "source": [
    "#Remove more auto lines\n",
    "apfesh = [line for line in apfesh if not \"You changed\" in line]\n",
    "print(len(apfesh))"
   ]
  },
  {
   "cell_type": "code",
   "execution_count": 5,
   "metadata": {},
   "outputs": [
    {
     "name": "stdout",
     "output_type": "stream",
     "text": [
      "4101\n"
     ]
    }
   ],
   "source": [
    "#Remove even more auto lines\n",
    "apfesh = [line for line in apfesh if not \"You revoked\" in line]\n",
    "print(len(apfesh))"
   ]
  },
  {
   "cell_type": "code",
   "execution_count": 6,
   "metadata": {},
   "outputs": [
    {
     "name": "stdout",
     "output_type": "stream",
     "text": [
      "4093\n",
      "8 people left the group\n"
     ]
    }
   ],
   "source": [
    "#Drop 'left-ers'\n",
    "left = [line for line in apfesh if line.endswith(\"left\")]\n",
    "#Remove all that 'left'\n",
    "apfesh = [line for line in apfesh if not line.endswith(\"left\")]\n",
    "print(len(apfesh))\n",
    "print(\"{} people left the group\".format(len(left)))"
   ]
  },
  {
   "cell_type": "code",
   "execution_count": 8,
   "metadata": {},
   "outputs": [
    {
     "name": "stdout",
     "output_type": "stream",
     "text": [
      "8\n"
     ]
    },
    {
     "data": {
      "text/html": [
       "<div>\n",
       "<style scoped>\n",
       "    .dataframe tbody tr th:only-of-type {\n",
       "        vertical-align: middle;\n",
       "    }\n",
       "\n",
       "    .dataframe tbody tr th {\n",
       "        vertical-align: top;\n",
       "    }\n",
       "\n",
       "    .dataframe thead th {\n",
       "        text-align: right;\n",
       "    }\n",
       "</style>\n",
       "<table border=\"1\" class=\"dataframe\">\n",
       "  <thead>\n",
       "    <tr style=\"text-align: right;\">\n",
       "      <th></th>\n",
       "      <th>date</th>\n",
       "    </tr>\n",
       "  </thead>\n",
       "  <tbody>\n",
       "    <tr>\n",
       "      <td>+263 77 221 3302</td>\n",
       "      <td>10/23/19</td>\n",
       "    </tr>\n",
       "    <tr>\n",
       "      <td>+234 703 553 4253</td>\n",
       "      <td>11/2/19</td>\n",
       "    </tr>\n",
       "    <tr>\n",
       "      <td>Steph LI AskPyFesh</td>\n",
       "      <td>11/4/19</td>\n",
       "    </tr>\n",
       "    <tr>\n",
       "      <td>+234 706 130 1525</td>\n",
       "      <td>11/13/19</td>\n",
       "    </tr>\n",
       "    <tr>\n",
       "      <td>+234 703 059 4261</td>\n",
       "      <td>11/27/19</td>\n",
       "    </tr>\n",
       "    <tr>\n",
       "      <td>+234 903 915 7667</td>\n",
       "      <td>11/30/19</td>\n",
       "    </tr>\n",
       "    <tr>\n",
       "      <td>+234 810 004 6353</td>\n",
       "      <td>12/14/19</td>\n",
       "    </tr>\n",
       "    <tr>\n",
       "      <td>+91 99231 07798</td>\n",
       "      <td>12/29/19</td>\n",
       "    </tr>\n",
       "  </tbody>\n",
       "</table>\n",
       "</div>"
      ],
      "text/plain": [
       "                         date\n",
       " +263 77 221 3302    10/23/19\n",
       " +234 703 553 4253    11/2/19\n",
       " Steph LI AskPyFesh   11/4/19\n",
       " +234 706 130 1525   11/13/19\n",
       " +234 703 059 4261   11/27/19\n",
       " +234 903 915 7667   11/30/19\n",
       " +234 810 004 6353   12/14/19\n",
       " +91 99231 07798     12/29/19"
      ]
     },
     "execution_count": 8,
     "metadata": {},
     "output_type": "execute_result"
    }
   ],
   "source": [
    "leavers = {}\n",
    "for line in left:\n",
    "    leavers[line.partition('-')[2][:-5]] = line.partition('-')[0].partition(',')[0]\n",
    "print(len(leavers))\n",
    "leave = pd.DataFrame([leavers]).T\n",
    "leave.columns = ['date']\n",
    "leave"
   ]
  },
  {
   "cell_type": "code",
   "execution_count": 9,
   "metadata": {},
   "outputs": [
    {
     "name": "stdout",
     "output_type": "stream",
     "text": [
      "There were 136 media files in this time\n",
      "3957\n"
     ]
    }
   ],
   "source": [
    "#Drop media file lines\n",
    "media = [line for line in apfesh if 'omitted' in line]\n",
    "print(\"There were {} media files in this time\".format(len(media)))\n",
    "apfesh = [line for line in apfesh if not 'omitted' in line]\n",
    "print(len(apfesh))"
   ]
  },
  {
   "cell_type": "code",
   "execution_count": 10,
   "metadata": {},
   "outputs": [
    {
     "data": {
      "text/plain": [
       "2293"
      ]
     },
     "execution_count": 10,
     "metadata": {},
     "output_type": "execute_result"
    }
   ],
   "source": [
    "#Merge messages that belong together\n",
    "msgs = [] #message container\n",
    "pos = 0 #counter for position of msgs in the container\n",
    "\"\"\"\n",
    "Flow:\n",
    "For every line, see if it matches the expression which is starting with the format \"number(s)+slash\" eg \"12/\"\n",
    "If it does, it is a new line of conversion as they begin with dates, add it to msgs container\n",
    "Else, it is a continuation of the previous line, add it to the previous line and append to msgs, then pop previous line.\n",
    "\"\"\"\n",
    "for line in apfesh:\n",
    "    if re.findall(\"\\A\\d+[/]\", line):\n",
    "        msgs.append(line)\n",
    "        pos += 1\n",
    "    else:\n",
    "        take = msgs[pos-1] + \". \" + line\n",
    "        msgs.append(take)\n",
    "        msgs.pop(pos-1)\n",
    "\n",
    "len(msgs)"
   ]
  },
  {
   "cell_type": "code",
   "execution_count": 11,
   "metadata": {},
   "outputs": [
    {
     "data": {
      "text/plain": [
       "['10/22/19, 1:30 PM - Paschal Chukwuemeka Amah: Hehe.. Na so.',\n",
       " '10/22/19, 1:30 PM - Paschal Chukwuemeka Amah: Trying to find the next big pythonista.. So, historically na Igwe enter the group first.',\n",
       " \"10/22/19, 1:31 PM - Paschal Chukwuemeka Amah: I'll delete all this sha just before I start sharing links and having people join.\",\n",
       " '10/22/19, 8:33 PM - Chigozie Njoku D-GASM: #AskFeshIntro. Name: Chigozie Njoku. City of residence: Lagos']"
      ]
     },
     "execution_count": 11,
     "metadata": {},
     "output_type": "execute_result"
    }
   ],
   "source": [
    "msgs[5:9]"
   ]
  },
  {
   "cell_type": "code",
   "execution_count": 12,
   "metadata": {},
   "outputs": [
    {
     "data": {
      "text/plain": [
       "2291"
      ]
     },
     "execution_count": 12,
     "metadata": {},
     "output_type": "execute_result"
    }
   ],
   "source": [
    "#Drop first two lines: auto msg\n",
    "msgs = msgs[2:]\n",
    "len(msgs)"
   ]
  },
  {
   "cell_type": "code",
   "execution_count": 13,
   "metadata": {},
   "outputs": [
    {
     "data": {
      "text/plain": [
       "['10/23/19, 1:03 PM - +234 706 527 3604: My name is Tolu Oladipo. I reside in Lagos state #AskFreshIntro',\n",
       " '10/23/19, 4:00 PM - Ojei Toritsemoshe D-GASM: #AskFeshIntro. Ojei Tooritse. Lagos',\n",
       " '10/23/19, 7:05 PM - Paschal Chukwuemeka Amah: _3/3 Repeat message_. Warm welcome to *#AskPyFesh*! 😁. In an hour we shall revoke the join link and open the floor.. If you have not, and would want to be enumerated, drop your first message with the tag _*#AskPyFeshIntro*_ with your preferred name and location.. *Upcoming Event*. _*Time*_: 22:15hrs GMT* (10:15pm Lagos Time). _*Agenda*_: Guidance on getting your computer ready to write the language.. _*Recommended Tools*_: Your laptop or desktop and a working Internet connection.. Again, warm welcome.. - == _This is Fesh_ 🙇. !=_Fresh_ 😀',\n",
       " '10/23/19, 7:07 PM - Obiora Michael D-GASM: Mike, Surulere Lagos #AskPyFeshIntro',\n",
       " '10/23/19, 7:08 PM - +234 805 052 8131: What if my laptop can not connect to WiFi, what do I do?']"
      ]
     },
     "execution_count": 13,
     "metadata": {},
     "output_type": "execute_result"
    }
   ],
   "source": [
    "#peep message format so far\n",
    "msgs[50:55]"
   ]
  },
  {
   "cell_type": "code",
   "execution_count": 14,
   "metadata": {},
   "outputs": [
    {
     "name": "stdout",
     "output_type": "stream",
     "text": [
      "2291 2291 2291 2291\n"
     ]
    }
   ],
   "source": [
    "\n",
    "#make arrays of different parts of the messages\n",
    "date = []\n",
    "time = []\n",
    "number = []\n",
    "msg = []\n",
    "counter = 0\n",
    "for line in msgs:\n",
    "    x = line.split()\n",
    "    #Get the date\n",
    "    dating = x[0]\n",
    "    date.append(dating.replace(',',''))\n",
    "    \n",
    "    #Get the time\n",
    "    timing = x[1] + \" \" +x[2]\n",
    "    time.append(timing)\n",
    "    \n",
    "    #Get number\n",
    "    num = \" \".join(x[3:9]) #the parts numbers/names fall in\n",
    "    try:\n",
    "        match = re.search(r\"- ([^']*):\", num).group(1) #match between '- ' and ':' where they are per se\n",
    "        number.append(match)\n",
    "    except:\n",
    "        number.append(\"-\")\n",
    "        pass\n",
    "    #Get message\n",
    "    #num = \" \".join(x[3:8]) #num/name position\n",
    "    #match = re.search(r\"- ([^']*):\", num).group(1) #isolate the num/name per se\n",
    "    part = line.partition(match)[2] #partition according to the match and extract the last part, the msg\n",
    "    msging = part[2:] #strip off the first two characters as they are \": \"\n",
    "    msg.append(msging)\n",
    "    \n",
    "#     counter += 1\n",
    "#     print(counter)\n",
    "\n",
    "print(len(date), len(time), len(number), len(msg))"
   ]
  },
  {
   "cell_type": "code",
   "execution_count": 15,
   "metadata": {},
   "outputs": [
    {
     "data": {
      "text/plain": [
       "['MaduDOMINIC', 'MaduDOMINIC', 'MaduDOMINIC', 'Fesh', 'Fesh']"
      ]
     },
     "execution_count": 15,
     "metadata": {},
     "output_type": "execute_result"
    }
   ],
   "source": [
    "number = [line.replace('Paschal Chukwuemeka Amah', 'Fesh') for line in number]\n",
    "number[:5]"
   ]
  },
  {
   "cell_type": "code",
   "execution_count": 16,
   "metadata": {},
   "outputs": [
    {
     "data": {
      "text/html": [
       "<div>\n",
       "<style scoped>\n",
       "    .dataframe tbody tr th:only-of-type {\n",
       "        vertical-align: middle;\n",
       "    }\n",
       "\n",
       "    .dataframe tbody tr th {\n",
       "        vertical-align: top;\n",
       "    }\n",
       "\n",
       "    .dataframe thead th {\n",
       "        text-align: right;\n",
       "    }\n",
       "</style>\n",
       "<table border=\"1\" class=\"dataframe\">\n",
       "  <thead>\n",
       "    <tr style=\"text-align: right;\">\n",
       "      <th></th>\n",
       "      <th>date</th>\n",
       "      <th>time</th>\n",
       "      <th>number</th>\n",
       "      <th>msg</th>\n",
       "    </tr>\n",
       "  </thead>\n",
       "  <tbody>\n",
       "    <tr>\n",
       "      <td>0</td>\n",
       "      <td>10/22/19</td>\n",
       "      <td>1:28 PM</td>\n",
       "      <td>MaduDOMINIC</td>\n",
       "      <td>Ask Python Fesh</td>\n",
       "    </tr>\n",
       "    <tr>\n",
       "      <td>1</td>\n",
       "      <td>10/22/19</td>\n",
       "      <td>1:28 PM</td>\n",
       "      <td>MaduDOMINIC</td>\n",
       "      <td>Odi ok</td>\n",
       "    </tr>\n",
       "    <tr>\n",
       "      <td>2</td>\n",
       "      <td>10/22/19</td>\n",
       "      <td>1:28 PM</td>\n",
       "      <td>MaduDOMINIC</td>\n",
       "      <td>Anyi ebidogo</td>\n",
       "    </tr>\n",
       "    <tr>\n",
       "      <td>3</td>\n",
       "      <td>10/22/19</td>\n",
       "      <td>1:30 PM</td>\n",
       "      <td>Fesh</td>\n",
       "      <td>Hehe.. Na so.</td>\n",
       "    </tr>\n",
       "    <tr>\n",
       "      <td>4</td>\n",
       "      <td>10/22/19</td>\n",
       "      <td>1:30 PM</td>\n",
       "      <td>Fesh</td>\n",
       "      <td>Trying to find the next big pythonista.. So, h...</td>\n",
       "    </tr>\n",
       "  </tbody>\n",
       "</table>\n",
       "</div>"
      ],
      "text/plain": [
       "       date     time       number  \\\n",
       "0  10/22/19  1:28 PM  MaduDOMINIC   \n",
       "1  10/22/19  1:28 PM  MaduDOMINIC   \n",
       "2  10/22/19  1:28 PM  MaduDOMINIC   \n",
       "3  10/22/19  1:30 PM         Fesh   \n",
       "4  10/22/19  1:30 PM         Fesh   \n",
       "\n",
       "                                                 msg  \n",
       "0                                    Ask Python Fesh  \n",
       "1                                             Odi ok  \n",
       "2                                       Anyi ebidogo  \n",
       "3                                      Hehe.. Na so.  \n",
       "4  Trying to find the next big pythonista.. So, h...  "
      ]
     },
     "execution_count": 16,
     "metadata": {},
     "output_type": "execute_result"
    }
   ],
   "source": [
    "#Put in a dataframe\n",
    "apfesh_df = pd.DataFrame()\n",
    "apfesh_df[\"date\"] = date\n",
    "apfesh_df[\"time\"] = time\n",
    "apfesh_df[\"number\"] = number\n",
    "apfesh_df[\"msg\"] = msg\n",
    "\n",
    "apfesh_df.head()"
   ]
  },
  {
   "cell_type": "code",
   "execution_count": 37,
   "metadata": {},
   "outputs": [
    {
     "data": {
      "text/html": [
       "<div>\n",
       "<style scoped>\n",
       "    .dataframe tbody tr th:only-of-type {\n",
       "        vertical-align: middle;\n",
       "    }\n",
       "\n",
       "    .dataframe tbody tr th {\n",
       "        vertical-align: top;\n",
       "    }\n",
       "\n",
       "    .dataframe thead th {\n",
       "        text-align: right;\n",
       "    }\n",
       "</style>\n",
       "<table border=\"1\" class=\"dataframe\">\n",
       "  <thead>\n",
       "    <tr style=\"text-align: right;\">\n",
       "      <th></th>\n",
       "      <th>date</th>\n",
       "      <th>time</th>\n",
       "      <th>number</th>\n",
       "      <th>msg</th>\n",
       "      <th>word_count</th>\n",
       "    </tr>\n",
       "  </thead>\n",
       "  <tbody>\n",
       "    <tr>\n",
       "      <td>0</td>\n",
       "      <td>10/22/19</td>\n",
       "      <td>1:28 PM</td>\n",
       "      <td>MaduDOMINIC</td>\n",
       "      <td>Ask Python Fesh</td>\n",
       "      <td>3</td>\n",
       "    </tr>\n",
       "    <tr>\n",
       "      <td>1</td>\n",
       "      <td>10/22/19</td>\n",
       "      <td>1:28 PM</td>\n",
       "      <td>MaduDOMINIC</td>\n",
       "      <td>Odi ok</td>\n",
       "      <td>2</td>\n",
       "    </tr>\n",
       "    <tr>\n",
       "      <td>2</td>\n",
       "      <td>10/22/19</td>\n",
       "      <td>1:28 PM</td>\n",
       "      <td>MaduDOMINIC</td>\n",
       "      <td>Anyi ebidogo</td>\n",
       "      <td>2</td>\n",
       "    </tr>\n",
       "    <tr>\n",
       "      <td>3</td>\n",
       "      <td>10/22/19</td>\n",
       "      <td>1:30 PM</td>\n",
       "      <td>Fesh</td>\n",
       "      <td>Hehe.. Na so.</td>\n",
       "      <td>3</td>\n",
       "    </tr>\n",
       "    <tr>\n",
       "      <td>4</td>\n",
       "      <td>10/22/19</td>\n",
       "      <td>1:30 PM</td>\n",
       "      <td>Fesh</td>\n",
       "      <td>Trying to find the next big pythonista.. So, h...</td>\n",
       "      <td>15</td>\n",
       "    </tr>\n",
       "  </tbody>\n",
       "</table>\n",
       "</div>"
      ],
      "text/plain": [
       "       date     time       number  \\\n",
       "0  10/22/19  1:28 PM  MaduDOMINIC   \n",
       "1  10/22/19  1:28 PM  MaduDOMINIC   \n",
       "2  10/22/19  1:28 PM  MaduDOMINIC   \n",
       "3  10/22/19  1:30 PM         Fesh   \n",
       "4  10/22/19  1:30 PM         Fesh   \n",
       "\n",
       "                                                 msg  word_count  \n",
       "0                                    Ask Python Fesh           3  \n",
       "1                                             Odi ok           2  \n",
       "2                                       Anyi ebidogo           2  \n",
       "3                                      Hehe.. Na so.           3  \n",
       "4  Trying to find the next big pythonista.. So, h...          15  "
      ]
     },
     "execution_count": 37,
     "metadata": {},
     "output_type": "execute_result"
    }
   ],
   "source": [
    "apfesh_df['word_count'] = apfesh_df['msg'].apply(lambda x: len(str(x).split(\" \")))\n",
    "apfesh_df.head()"
   ]
  },
  {
   "cell_type": "code",
   "execution_count": 46,
   "metadata": {},
   "outputs": [
    {
     "name": "stdout",
     "output_type": "stream",
     "text": [
      "There are a total of 37,885 words shared in this group so far\n"
     ]
    }
   ],
   "source": [
    "print(\"There are a total of {:,} words shared in this group so far\".format(apfesh_df.word_count.sum()))"
   ]
  },
  {
   "cell_type": "code",
   "execution_count": 34,
   "metadata": {},
   "outputs": [
    {
     "data": {
      "text/plain": [
       "['+234 812 053 1560',\n",
       " '+234 803 399 5784',\n",
       " '+234 706 274 2832',\n",
       " '+234 806 235 5136',\n",
       " '+234 903 881 9790',\n",
       " '+234 816 833 8104',\n",
       " '+234 818 967 6168',\n",
       " '+234 812 053 1560: https',\n",
       " '+234 903 895 4127',\n",
       " '+91 99231 07798',\n",
       " '+234 805 326 3849',\n",
       " '+234 705 579 9202: https',\n",
       " '+234 808 230 9647',\n",
       " 'Budo',\n",
       " 'Ojonta Semi Bishop Okoye',\n",
       " '+234 803 509 7061',\n",
       " 'Adafin',\n",
       " 'Chigozie Njoku D-GASM: #AskFeshIntro. Name',\n",
       " 'Ojei Toritsemoshe D-GASM',\n",
       " '+234 813 533 2067',\n",
       " '+234 813 533 2067: https',\n",
       " '+234 703 553 4253',\n",
       " '+234 706 753 8706',\n",
       " 'Ogbosho Tupac',\n",
       " 'Charles Echefu #AskPyFesh',\n",
       " 'Fesh: like this',\n",
       " '+234 703 461 5552',\n",
       " '+234 803 406 5079',\n",
       " '+234 813 701 6073',\n",
       " '+234 805 411 5331',\n",
       " '+234 818 559 0066',\n",
       " 'Chigozie Njoku D-GASM',\n",
       " '+234 816 440 2922',\n",
       " 'Fesh: Try this',\n",
       " '+234 705 340 6810',\n",
       " '+234 818 847 1990',\n",
       " '+234 701 291 2307',\n",
       " 'Fesh: Simply put',\n",
       " '+972 54-226-9638',\n",
       " '+234 816 487 2514',\n",
       " '+234 703 059 4261',\n",
       " '-',\n",
       " '+234 816 629 7839',\n",
       " '+234 803 929 4506',\n",
       " '+234 708 884 5567',\n",
       " '+1 (587) 434-5627',\n",
       " 'Fesh',\n",
       " '+234 706 444 3217',\n",
       " '+234 815 457 9644',\n",
       " '+234 706 214 9878',\n",
       " '+91 90290 41544',\n",
       " '+234 909 462 8134',\n",
       " '+234 905 828 5150',\n",
       " '+34 689 00 06 09',\n",
       " '+234 806 235 5136: https',\n",
       " 'Francis Obasi D-GASM',\n",
       " '+234 816 440 2922: https',\n",
       " '+234 705 579 9202',\n",
       " '+91 75061 91366',\n",
       " '+234 803 755 9018',\n",
       " '+234 803 604 4312: https',\n",
       " 'MaduDOMINIC',\n",
       " 'Obiora Michael D-GASM',\n",
       " '+234 816 398 2854',\n",
       " 'Ejike Okonkwo Acipite Bro',\n",
       " '+234 706 516 7280',\n",
       " '+234 706 514 6514',\n",
       " '+234 706 426 5908',\n",
       " 'Fesh: Topic',\n",
       " 'Fesh: *Teaser*',\n",
       " '+234 706 130 1525',\n",
       " '+234 805 052 8131',\n",
       " 'Ray Papa',\n",
       " 'Fesh: *My Review',\n",
       " '+1 (587) 434-5627: https',\n",
       " '+234 813 855 8745',\n",
       " '+234 706 527 3604',\n",
       " '+234 907 295 2087',\n",
       " '+234 817 044 9056',\n",
       " 'Fesh: http',\n",
       " '+234 903 138 1743',\n",
       " '+234 806 267 3745',\n",
       " 'MaduDOMINIC: #AskFeshIntro. Dominic Madu. Location',\n",
       " '+234 806 734 7912',\n",
       " '+234 803 604 4312: enumerate()',\n",
       " 'Fesh: PS',\n",
       " '+1 (647) 679-8746',\n",
       " 'Adafin: https',\n",
       " 'Fesh: ✔️. Reason',\n",
       " 'Fesh: https',\n",
       " '+234 903 182 7815',\n",
       " '+234 706 860 9792',\n",
       " '+234 812 481 1464',\n",
       " '+234 803 711 3263',\n",
       " '+234 703 120 1331',\n",
       " 'Fesh: def inchEquivalent(num)',\n",
       " '+234 816 398 2854: https',\n",
       " '+234 905 488 8162',\n",
       " 'Fesh: Line1',\n",
       " '+234 906 883 7990',\n",
       " '+254 717 434244',\n",
       " '+234 816 938 8179',\n",
       " '+234 805 209 7945',\n",
       " '+234 810 831 6393',\n",
       " '+234 706 853 7939',\n",
       " '+234 703 080 5323',\n",
       " '+234 816 815 1567',\n",
       " 'Fesh: Join link',\n",
       " 'Fesh: Summary',\n",
       " '+234 703 281 5348',\n",
       " '+234 818 936 4697',\n",
       " 'Fesh: FYI',\n",
       " '+234 706 809 3373',\n",
       " '+234 706 502 3777',\n",
       " '+234 701 291 2307: https',\n",
       " '+234 803 604 4312']"
      ]
     },
     "execution_count": 34,
     "metadata": {},
     "output_type": "execute_result"
    }
   ],
   "source": [
    "members = apfesh_df.number.tolist()\n",
    "members = set(members)\n",
    "members = list(members)\n",
    "len(members)\n",
    "members"
   ]
  },
  {
   "cell_type": "code",
   "execution_count": 17,
   "metadata": {},
   "outputs": [
    {
     "name": "stdout",
     "output_type": "stream",
     "text": [
      "Fesh                 765\n",
      "+234 803 604 4312    145\n",
      "+234 806 235 5136    110\n",
      "+234 812 053 1560    110\n",
      "+234 705 579 9202     91\n",
      "Name: number, dtype: int64\n"
     ]
    },
    {
     "data": {
      "text/plain": [
       "<matplotlib.axes._subplots.AxesSubplot at 0x20334499108>"
      ]
     },
     "execution_count": 17,
     "metadata": {},
     "output_type": "execute_result"
    },
    {
     "data": {
      "image/png": "[encoded data removed]",
      "text/plain": [
       "<Figure size 432x288 with 1 Axes>"
      ]
     },
     "metadata": {
      "needs_background": "light"
     },
     "output_type": "display_data"
    }
   ],
   "source": [
    "top5messengers = apfesh_df.number.value_counts(ascending=False).head()\n",
    "print(top5messengers)\n",
    "top5messengers.plot(kind=\"bar\")"
   ]
  },
  {
   "cell_type": "code",
   "execution_count": 18,
   "metadata": {},
   "outputs": [
    {
     "name": "stdout",
     "output_type": "stream",
     "text": [
      "Fesh                 765\n",
      "+234 803 604 4312    145\n",
      "+234 806 235 5136    110\n",
      "+234 812 053 1560    110\n",
      "+234 705 579 9202     91\n",
      "Name: number, dtype: int64\n"
     ]
    },
    {
     "data": {
      "image/png": "[encoded data removed]",
      "text/plain": [
       "<Figure size 432x288 with 1 Axes>"
      ]
     },
     "metadata": {
      "needs_background": "light"
     },
     "output_type": "display_data"
    }
   ],
   "source": [
    "print(top5messengers)\n",
    "fig, ax2 = plt.subplots()\n",
    "top5messengers.plot(kind='bar',ax=ax2, fontsize=10, sort_columns=True)\n",
    "ax2.grid(axis='y')\n",
    "plt.show()"
   ]
  },
  {
   "cell_type": "code",
   "execution_count": 19,
   "metadata": {},
   "outputs": [
    {
     "name": "stdout",
     "output_type": "stream",
     "text": [
      "Fesh                         765\n",
      "+234 803 604 4312            145\n",
      "+234 806 235 5136            110\n",
      "+234 812 053 1560            110\n",
      "+234 705 579 9202             91\n",
      "+234 701 291 2307             84\n",
      "Ejike Okonkwo Acipite Bro     77\n",
      "+234 813 533 2067             69\n",
      "+234 903 182 7815             65\n",
      "+234 816 398 2854             56\n",
      "Name: number, dtype: int64\n"
     ]
    },
    {
     "data": {
      "text/plain": [
       "<matplotlib.axes._subplots.AxesSubplot at 0x20336652ac8>"
      ]
     },
     "execution_count": 19,
     "metadata": {},
     "output_type": "execute_result"
    },
    {
     "data": {
      "image/png": "[encoded data removed]",
      "text/plain": [
       "<Figure size 720x360 with 1 Axes>"
      ]
     },
     "metadata": {
      "needs_background": "light"
     },
     "output_type": "display_data"
    }
   ],
   "source": [
    "top10messengers = apfesh_df.number.value_counts(ascending=False).head(10)\n",
    "print(top10messengers)\n",
    "top10messengers.plot(kind=\"bar\", figsize=(10,5))"
   ]
  },
  {
   "cell_type": "code",
   "execution_count": 20,
   "metadata": {},
   "outputs": [
    {
     "name": "stdout",
     "output_type": "stream",
     "text": [
      "Fesh                         765\n",
      "+234 803 604 4312            145\n",
      "+234 806 235 5136            110\n",
      "+234 812 053 1560            110\n",
      "+234 705 579 9202             91\n",
      "+234 701 291 2307             84\n",
      "Ejike Okonkwo Acipite Bro     77\n",
      "+234 813 533 2067             69\n",
      "+234 903 182 7815             65\n",
      "+234 816 398 2854             56\n",
      "Name: number, dtype: int64\n"
     ]
    },
    {
     "data": {
      "image/png": "[encoded data removed]",
      "text/plain": [
       "<Figure size 720x360 with 1 Axes>"
      ]
     },
     "metadata": {
      "needs_background": "light"
     },
     "output_type": "display_data"
    }
   ],
   "source": [
    "print(top10messengers)\n",
    "fig, ax2 = plt.subplots()\n",
    "top10messengers.plot(kind='bar',ax=ax2, fontsize=10, sort_columns=True, figsize=(10,5))\n",
    "ax2.grid(axis='y')\n",
    "plt.show()"
   ]
  },
  {
   "cell_type": "code",
   "execution_count": 21,
   "metadata": {},
   "outputs": [
    {
     "data": {
      "text/plain": [
       "3957"
      ]
     },
     "execution_count": 21,
     "metadata": {},
     "output_type": "execute_result"
    }
   ],
   "source": [
    "len(apfesh)"
   ]
  },
  {
   "cell_type": "code",
   "execution_count": 24,
   "metadata": {},
   "outputs": [
    {
     "data": {
      "text/plain": [
       "the     1481\n",
       "to      1052\n",
       "a        841\n",
       "and      700\n",
       "you      682\n",
       "I        647\n",
       "is       635\n",
       "of       549\n",
       "it       486\n",
       "in       431\n",
       "for      424\n",
       "will     303\n",
       "are      287\n",
       "have     271\n",
       "be       266\n",
       "on       259\n",
       "this     258\n",
       "that     255\n",
       "can      223\n",
       "with     212\n",
       "dtype: int64"
      ]
     },
     "execution_count": 24,
     "metadata": {},
     "output_type": "execute_result"
    }
   ],
   "source": [
    "pd.Series(' '.join(apfesh_df['msg']).split()).value_counts().tail(20)\n",
    "pd.Series(' '.join(apfesh_df['msg']).split()).value_counts().head(20)"
   ]
  },
  {
   "cell_type": "code",
   "execution_count": 25,
   "metadata": {},
   "outputs": [
    {
     "data": {
      "text/plain": [
       "116"
      ]
     },
     "execution_count": 25,
     "metadata": {},
     "output_type": "execute_result"
    }
   ],
   "source": [
    "##Create a list of stopwords\n",
    "stop_words = set(stopwords.words(\"english\"))\n",
    "new_words = set(apfesh_df['number'].tolist())\n",
    "new_words = [line.lower() for line in new_words]\n",
    "more = ['media omitted']\n",
    "stop_words = stop_words.union(new_words)\n",
    "stop_words = stop_words.union(more)\n",
    "len(new_words)"
   ]
  },
  {
   "cell_type": "code",
   "execution_count": 26,
   "metadata": {},
   "outputs": [],
   "source": [
    "##Preprocessing\n",
    "def cleaner1(words):\n",
    "    corpus = []\n",
    "    for i in range(0, len(words)):\n",
    "        #Remove punctuations. Removes all characters NOT a-z or A-Z and replace with nothing ie ' ' note: carat inside the []\n",
    "        text = re.sub('[^a-zA-Z]', ' ', words[i])\n",
    "\n",
    "        #Convert to lowercase\n",
    "        text = text.lower()\n",
    "\n",
    "        #remove tags\n",
    "        text=re.sub(\"&lt;/?.*?&gt;\",\" &lt;&gt; \",text)\n",
    "\n",
    "        # remove special characters and digits\n",
    "        text=re.sub(\"(\\\\d|\\\\W)+\",\" \",text)\n",
    "\n",
    "        ##Convert to list from string\n",
    "        text = text.split()\n",
    "\n",
    "        ##Stemming\n",
    "        ps=PorterStemmer()\n",
    "        #Lemmatisation\n",
    "        lem = WordNetLemmatizer()\n",
    "        text = [lem.lemmatize(word) for word in text if not word in  \n",
    "                stop_words] \n",
    "        text = \" \".join(text)\n",
    "        if \"rt\" in text:\n",
    "            corpus.append(text.split(' ',2)[2:])\n",
    "        else:\n",
    "            corpus.append(text)\n",
    "    return corpus\n",
    "\n",
    "cleaned_words = cleaner1(apfesh_df['msg'].tolist())"
   ]
  },
  {
   "cell_type": "code",
   "execution_count": 27,
   "metadata": {},
   "outputs": [
    {
     "data": {
      "text/plain": [
       "2291"
      ]
     },
     "execution_count": 27,
     "metadata": {},
     "output_type": "execute_result"
    }
   ],
   "source": [
    "len(apfesh_df.msg)"
   ]
  },
  {
   "cell_type": "code",
   "execution_count": 29,
   "metadata": {},
   "outputs": [
    {
     "name": "stdout",
     "output_type": "stream",
     "text": [
      "#AskPyFesh Wordcloud\n",
      "<wordcloud.wordcloud.WordCloud object at 0x000002033B28A7C8>\n"
     ]
    },
    {
     "data": {
      "image/png": "[encoded data removed]",
      "text/plain": [
       "<Figure size 432x288 with 1 Axes>"
      ]
     },
     "metadata": {
      "needs_background": "light"
     },
     "output_type": "display_data"
    }
   ],
   "source": [
    "#Word cloud\n",
    "print(\"#AskPyFesh Wordcloud\")\n",
    "from os import path\n",
    "from PIL import Image\n",
    "from wordcloud import WordCloud, STOPWORDS, ImageColorGenerator\n",
    "import matplotlib.pyplot as plt\n",
    "%matplotlib inline\n",
    "wordcloud = WordCloud(\n",
    "                          background_color='gold',\n",
    "                          stopwords=stop_words,\n",
    "                          max_words=100,\n",
    "                          max_font_size=70, \n",
    "                          random_state=42\n",
    "                         ).generate(str(cleaned_words))\n",
    "print(wordcloud)\n",
    "fig = plt.figure(1)\n",
    "plt.imshow(wordcloud)\n",
    "plt.axis('off')\n",
    "plt.show()\n",
    "fig.savefig(\"word1.png\", dpi=900)"
   ]
  },
  {
   "cell_type": "code",
   "execution_count": null,
   "metadata": {},
   "outputs": [],
   "source": []
  }
 ],
 "metadata": {
  "kernelspec": {
   "display_name": "Python 3",
   "language": "python",
   "name": "python3"
  },
  "language_info": {
   "codemirror_mode": {
    "name": "ipython",
    "version": 3
   },
   "file_extension": ".py",
   "mimetype": "text/x-python",
   "name": "python",
   "nbconvert_exporter": "python",
   "pygments_lexer": "ipython3",
   "version": "3.7.4"
  }
 },
 "nbformat": 4,
 "nbformat_minor": 2
}
